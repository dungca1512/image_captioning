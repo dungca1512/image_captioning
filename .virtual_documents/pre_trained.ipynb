import gensim
import pickle
from build_vocab import Vocabulary
import numpy as np
import torch


model = gensim.models.KeyedVectors.load_word2vec_format('./GoogleNews-vectors-negative300.bin', binary=True) 


with open('data/vocab.pkl', 'rb') as f:
        vocab = pickle.load(f)


matrix_len = len(vocab.word2idx.keys())
weights_matrix = np.zeros((matrix_len, 300))

for i, word in enumerate(vocab.word2idx.keys()):
    if word in model: 
        weights_matrix[i] = model[word]
    else:
        weights_matrix[i] = np.random.normal(scale=0.6, size=(300, ))


weights = torch.from_numpy(weights_matrix)


torch.save(weights, './pretrain_weights.pt')



