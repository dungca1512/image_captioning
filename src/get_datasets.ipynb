{
 "cells": [
  {
   "cell_type": "code",
   "execution_count": 1,
   "metadata": {},
   "outputs": [],
   "source": [
    "import csv\n",
    "from shutil import copyfile\n",
    "from pycocotools.coco import COCO\n",
    "from tqdm import tqdm"
   ]
  },
  {
   "cell_type": "code",
   "execution_count": 2,
   "metadata": {},
   "outputs": [
    {
     "name": "stdout",
     "output_type": "stream",
     "text": [
      "--2020-02-26 16:22:27--  http://msvocds.blob.core.windows.net/annotations-1-0-3/captions_train-val2014.zip\n",
      "Resolving web.ucsd.edu (web.ucsd.edu)... 132.239.1.230, 132.239.1.231\n",
      "Connecting to web.ucsd.edu (web.ucsd.edu)|132.239.1.230|:3128... connected.\n",
      "Proxy request sent, awaiting response... 200 OK\n",
      "Length: 19673183 (19M) [application/octet-stream Charset=UTF-8]\n",
      "Saving to: ‘./data/captions_train-val2014.zip’\n",
      "\n",
      "captions_train-val2 100%[===================>]  18.76M  --.-KB/s    in 0.09s   \n",
      "\n",
      "2020-02-26 16:22:27 (216 MB/s) - ‘./data/captions_train-val2014.zip’ saved [19673183/19673183]\n",
      "\n",
      "Archive:  ./data/captions_train-val2014.zip\n",
      "  inflating: ./data/annotations/captions_train2014.json  \n",
      "  inflating: ./data/annotations/captions_val2014.json  \n"
     ]
    }
   ],
   "source": [
    "#make directory and get annotations for training and testing\n",
    "# !mkdir data\n",
    "# !wget http://msvocds.blob.core.windows.net/annotations-1-0-3/captions_train-val2014.zip -P ./data/\n",
    "# !unzip ./data/captions_train-val2014.zip -d ./data/\n",
    "# !rm ./data/captions_train-val2014.zip"
   ]
  },
  {
   "cell_type": "code",
   "execution_count": 3,
   "metadata": {},
   "outputs": [],
   "source": [
    "# !mkdir data/images\n",
    "# !mkdir data/images/train\n",
    "# !mkdir data/images/test"
   ]
  },
  {
   "cell_type": "code",
   "execution_count": 4,
   "metadata": {},
   "outputs": [
    {
     "name": "stdout",
     "output_type": "stream",
     "text": [
      "loading annotations into memory...\n",
      "Done (t=0.96s)\n",
      "creating index...\n",
      "index created!\n"
     ]
    }
   ],
   "source": [
    "coco = COCO('./data/annotations/captions_train2014.json')"
   ]
  },
  {
   "cell_type": "code",
   "execution_count": 5,
   "metadata": {},
   "outputs": [
    {
     "name": "stdout",
     "output_type": "stream",
     "text": [
      "16556\n"
     ]
    }
   ],
   "source": [
    "#get ids of training images\n",
    "with open('TrainImageIds.csv', 'r') as f:\n",
    "    reader = csv.reader(f)\n",
    "    trainIds = list(reader)\n",
    "    \n",
    "trainIds = [int(i) for i in trainIds[0]]\n",
    "print(len(trainIds))"
   ]
  },
  {
   "cell_type": "code",
   "execution_count": 6,
   "metadata": {},
   "outputs": [
    {
     "name": "stderr",
     "output_type": "stream",
     "text": [
      "100%|██████████| 16556/16556 [01:37<00:00, 168.96it/s]\n"
     ]
    }
   ],
   "source": [
    "for img_id in tqdm(trainIds):\n",
    "    path = coco.loadImgs(img_id)[0]['file_name']\n",
    "    copyfile('/datasets/COCO-2015/train2014/' + path, './data/images/train/' + path)"
   ]
  },
  {
   "cell_type": "code",
   "execution_count": 7,
   "metadata": {},
   "outputs": [
    {
     "name": "stdout",
     "output_type": "stream",
     "text": [
      "loading annotations into memory...\n",
      "Done (t=0.62s)\n",
      "creating index...\n",
      "index created!\n"
     ]
    }
   ],
   "source": [
    "cocoTest = COCO('./data/annotations/captions_val2014.json')"
   ]
  },
  {
   "cell_type": "code",
   "execution_count": 8,
   "metadata": {},
   "outputs": [],
   "source": [
    "with open('TestImageIds.csv', 'r') as f:\n",
    "    reader = csv.reader(f)\n",
    "    testIds = list(reader)\n",
    "    \n",
    "testIds = [int(i) for i in testIds[0]]"
   ]
  },
  {
   "cell_type": "code",
   "execution_count": 9,
   "metadata": {},
   "outputs": [
    {
     "name": "stderr",
     "output_type": "stream",
     "text": [
      "100%|██████████| 3000/3000 [00:20<00:00, 146.00it/s]\n"
     ]
    }
   ],
   "source": [
    "for img_id in tqdm(testIds):\n",
    "    path = cocoTest.loadImgs(img_id)[0]['file_name']\n",
    "    copyfile('/datasets/COCO-2015/val2014/' + path, './data/images/test/' + path)"
   ]
  },
  {
   "cell_type": "code",
   "execution_count": 1,
   "metadata": {},
   "outputs": [
    {
     "name": "stdout",
     "output_type": "stream",
     "text": [
      "Hello World!\n"
     ]
    }
   ],
   "source": [
    "print(\"Hello World!\")"
   ]
  }
 ],
 "metadata": {
  "kernelspec": {
   "display_name": "Python 3",
   "language": "python",
   "name": "python3"
  },
  "language_info": {
   "codemirror_mode": {
    "name": "ipython",
    "version": 3
   },
   "file_extension": ".py",
   "mimetype": "text/x-python",
   "name": "python",
   "nbconvert_exporter": "python",
   "pygments_lexer": "ipython3",
   "version": "3.9.undefined"
  }
 },
 "nbformat": 4,
 "nbformat_minor": 2
}
